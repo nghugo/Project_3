{
    "metadata": {
        "kernelspec": {
            "name": "SQL",
            "display_name": "SQL",
            "language": "sql"
        },
        "language_info": {
            "name": "sql",
            "version": ""
        },
        "extensions": {
            "azuredatastudio": {
                "version": 1,
                "views": []
            }
        }
    },
    "nbformat_minor": 2,
    "nbformat": 4,
    "cells": [
        {
            "cell_type": "markdown",
            "source": [
                "# **Query and Dashboard | Iowa Liquor| Project 3**\n",
                "\n",
                "## **Tools Used In This Project**\n",
                "\n",
                "<span style=\"color: black; font-family: Arial, sans-serif; font-size: 10.5pt;\">- SQL</span>\n",
                "\n",
                "<span style=\"color: black; font-family: Arial, sans-serif; font-size: 10.5pt;\">- Tableau</span>\n",
                "\n",
                "## **Overview**\n",
                "\n",
                "<span style=\"color: black; font-family: Arial, sans-serif; font-size: 10.5pt;\">This project enables stakeholders such as liquor producers, retailers, and even policymakers to better understand the transactions of alcoholic beverages. Hence, they can best respond to the situation at hand.&nbsp;</span> <span style=\"color: black; font-family: Arial, sans-serif; font-size: 10.5pt;\">For example, if a retailer observes a growth in a county’s sales in certain types of liquor, it might indicate an investment opportunity. Similarly, a sudden spike in alcohol transaction (in terms of price or volume) can be symptomatic of an alarming consumption trend, which prompts further investigation of policymakers.</span>\n",
                "\n",
                "<span style=\"color: black; font-family: Arial, sans-serif; font-size: 10.5pt;\">To build the dashboard, we need to query the data of interest using SQL, and then build it using Tableau.&nbsp;</span> <span style=\"color: rgb(0, 0, 0); font-family: Arial, sans-serif;\">In our dashboard, we shall look into, for example, the category, price, sales volume, location, time, and retail branch of liquor transactions.</span>\n",
                "\n",
                "## **Licensing**\n",
                "\n",
                "The Iowa Liquor dataset used in this analysis comes from [the state of Iowa](https://data.iowa.gov/Sales-Distribution/Iowa-Liquor-Sales/m3tr-qhgy) under the [creative commons CC0 1.0 universal license](https://creativecommons.org/publicdomain/zero/1.0/). It is hence public domain information."
            ],
            "metadata": {
                "azdata_cell_guid": "6b415cea-0af0-4036-b74b-7c9a23b3d7b4",
                "extensions": {
                    "azuredatastudio": {
                        "views": []
                    }
                }
            },
            "attachments": {}
        },
        {
            "cell_type": "markdown",
            "source": [
                "## **Preview the two tables `ai_alc_retail_invoice` and `store_loc`**\n",
                "\n",
                "Our data is split across two tables `ai_alc_retail_invoice` and `store_loc`. Let's look at the top 15 rows of each table."
            ],
            "metadata": {
                "azdata_cell_guid": "c2787de8-7bf3-446d-8560-8b592d820e1e"
            },
            "attachments": {}
        },
        {
            "cell_type": "code",
            "source": [
                "SELECT TOP (15) *\r\n",
                "FROM Project_3_Query_and_Dashboard.dbo.ia_alc_retail_invoice"
            ],
            "metadata": {
                "azdata_cell_guid": "ae21ed93-43b5-4a3d-b99e-3d6a239b7478",
                "extensions": {
                    "azuredatastudio": {
                        "views": []
                    }
                },
                "tags": []
            },
            "outputs": [
                {
                    "output_type": "display_data",
                    "data": {
                        "text/html": "(15 rows affected)"
                    },
                    "metadata": {}
                },
                {
                    "output_type": "display_data",
                    "data": {
                        "text/html": "Total execution time: 00:00:00.007"
                    },
                    "metadata": {}
                },
                {
                    "output_type": "execute_result",
                    "metadata": {},
                    "execution_count": 1,
                    "data": {
                        "application/vnd.dataresource+json": {
                            "schema": {
                                "fields": [
                                    {
                                        "name": "invoice_number"
                                    },
                                    {
                                        "name": "date"
                                    },
                                    {
                                        "name": "store_unique_identifier"
                                    },
                                    {
                                        "name": "category_name"
                                    },
                                    {
                                        "name": "item_description"
                                    },
                                    {
                                        "name": "sales_in_usd"
                                    },
                                    {
                                        "name": "liters_sold"
                                    }
                                ]
                            },
                            "data": [
                                {
                                    "0": "S19199900014",
                                    "1": "2019-05-28",
                                    "2": "10dc2e1b7c522cf01c3789899fc122c3f132fee2",
                                    "3": "MISC. AMERICAN CORDIALS & LIQUEURS",
                                    "4": "Kinky Liqueur",
                                    "5": "180",
                                    "6": "9"
                                },
                                {
                                    "0": "S05253100137",
                                    "1": "2017-04-26",
                                    "2": "5998f982ee081b2a2aee746747d6d9ffa17df1ca",
                                    "3": "TEQUILA",
                                    "4": "Hornitos Plata",
                                    "5": "38.34",
                                    "6": "1.5"
                                },
                                {
                                    "0": "S06111000017",
                                    "1": "2017-06-18",
                                    "2": "37ac6fead9f90cfab14f44201dff43a5f125ec50",
                                    "3": "VODKA 80 PROOF",
                                    "4": "Nikolai Vodka",
                                    "5": "123.6",
                                    "6": "21"
                                },
                                {
                                    "0": "S09001200003",
                                    "1": "2017-11-16",
                                    "2": "394dc786e35398a597955b9e982160c0724e992e",
                                    "3": "SPICED RUM",
                                    "4": "Captain Morgan Spiced Rum",
                                    "5": "2032.8",
                                    "6": "120"
                                },
                                {
                                    "0": "S15800100003",
                                    "1": "2018-11-19",
                                    "2": "7de61daeedbb4fa6cd396e8f19e1394732caff8e",
                                    "3": "VODKA 80 PROOF",
                                    "4": "Hawkeye Vodka",
                                    "5": "129.12",
                                    "6": "21"
                                },
                                {
                                    "0": "S25250000017",
                                    "1": "2020-04-23",
                                    "2": "c44bffc12ea46e08a3871c93a50d0039c963ec53",
                                    "3": "SPICED RUM",
                                    "4": "Admiral Nelson Spiced Rum",
                                    "5": "98.64",
                                    "6": "9"
                                },
                                {
                                    "0": "S13822100103",
                                    "1": "2018-08-08",
                                    "2": "fd4359fcf0017b20828daf816d845f4544be7d37",
                                    "3": "VODKA 80 PROOF",
                                    "4": "Opulent Vodka",
                                    "5": "30.1",
                                    "6": "1.5"
                                },
                                {
                                    "0": "S25983500013",
                                    "1": "2020-06-02",
                                    "2": "1fc98b43e1878d3a836f1e9d879651ed59b9cb20",
                                    "3": "VODKA 80 PROOF",
                                    "4": "Barton Vodka",
                                    "5": "6.8",
                                    "6": "0.8"
                                },
                                {
                                    "0": "S22125500002",
                                    "1": "2019-11-03",
                                    "2": "02213f057afe728c8f1e84e96241da964100ce92",
                                    "3": "TENNESSEE WHISKIES",
                                    "4": "Jack Daniels Old #7 Black Lbl",
                                    "5": "293.76",
                                    "6": "9.6"
                                },
                                {
                                    "0": "S20144500054",
                                    "1": "2019-07-17",
                                    "2": "132c4b617719a9cd52ac30086abc82dd32478df9",
                                    "3": "CANADIAN WHISKIES",
                                    "4": "Black Velvet Cinnamon Rush Mini",
                                    "5": "7.44",
                                    "6": "0.6"
                                },
                                {
                                    "0": "S07150700002",
                                    "1": "2017-08-16",
                                    "2": "32968dab8459d1f741463a7597df73a174a9c46e",
                                    "3": "VODKA 80 PROOF",
                                    "4": "Smirnoff Vodka 80 Prf Mini",
                                    "5": "11.2",
                                    "6": "0.5"
                                },
                                {
                                    "0": "S26846200066",
                                    "1": "2020-07-20",
                                    "2": "c215d0667aa45b6d2329bb2cb7189026bf35f2da",
                                    "3": "TRIPLE SEC",
                                    "4": "Paramount Triple Sec",
                                    "5": "20.52",
                                    "6": "3"
                                },
                                {
                                    "0": "S05423900033",
                                    "1": "2017-05-08",
                                    "2": "02dcd8cbba3a2dd4228ed1dd873694cb5b77a765",
                                    "3": "VODKA 80 PROOF",
                                    "4": "Mccormick Vodka Pet",
                                    "5": "31.56",
                                    "6": "4.5"
                                },
                                {
                                    "0": "S11337200014",
                                    "1": "2018-03-28",
                                    "2": "696e38e59d7ebbb5cda553efb31aff23d3b3997d",
                                    "3": "BLENDED WHISKIES",
                                    "4": "Calvert Extra Bl Whiskey",
                                    "5": "30.93",
                                    "6": "3"
                                },
                                {
                                    "0": "S24716900004",
                                    "1": "2020-03-25",
                                    "2": "3ca165c0d119c92fdb6a35d1fad4e4a9eff11afb",
                                    "3": "IMPORTED VODKA",
                                    "4": "Grey Goose Vodka",
                                    "5": "198",
                                    "6": "6"
                                }
                            ]
                        },
                        "text/html": [
                            "<table>",
                            "<tr><th>invoice_number</th><th>date</th><th>store_unique_identifier</th><th>category_name</th><th>item_description</th><th>sales_in_usd</th><th>liters_sold</th></tr>",
                            "<tr><td>S19199900014</td><td>2019-05-28</td><td>10dc2e1b7c522cf01c3789899fc122c3f132fee2</td><td>MISC. AMERICAN CORDIALS &amp; LIQUEURS</td><td>Kinky Liqueur</td><td>180</td><td>9</td></tr>",
                            "<tr><td>S05253100137</td><td>2017-04-26</td><td>5998f982ee081b2a2aee746747d6d9ffa17df1ca</td><td>TEQUILA</td><td>Hornitos Plata</td><td>38.34</td><td>1.5</td></tr>",
                            "<tr><td>S06111000017</td><td>2017-06-18</td><td>37ac6fead9f90cfab14f44201dff43a5f125ec50</td><td>VODKA 80 PROOF</td><td>Nikolai Vodka</td><td>123.6</td><td>21</td></tr>",
                            "<tr><td>S09001200003</td><td>2017-11-16</td><td>394dc786e35398a597955b9e982160c0724e992e</td><td>SPICED RUM</td><td>Captain Morgan Spiced Rum</td><td>2032.8</td><td>120</td></tr>",
                            "<tr><td>S15800100003</td><td>2018-11-19</td><td>7de61daeedbb4fa6cd396e8f19e1394732caff8e</td><td>VODKA 80 PROOF</td><td>Hawkeye Vodka</td><td>129.12</td><td>21</td></tr>",
                            "<tr><td>S25250000017</td><td>2020-04-23</td><td>c44bffc12ea46e08a3871c93a50d0039c963ec53</td><td>SPICED RUM</td><td>Admiral Nelson Spiced Rum</td><td>98.64</td><td>9</td></tr>",
                            "<tr><td>S13822100103</td><td>2018-08-08</td><td>fd4359fcf0017b20828daf816d845f4544be7d37</td><td>VODKA 80 PROOF</td><td>Opulent Vodka</td><td>30.1</td><td>1.5</td></tr>",
                            "<tr><td>S25983500013</td><td>2020-06-02</td><td>1fc98b43e1878d3a836f1e9d879651ed59b9cb20</td><td>VODKA 80 PROOF</td><td>Barton Vodka</td><td>6.8</td><td>0.8</td></tr>",
                            "<tr><td>S22125500002</td><td>2019-11-03</td><td>02213f057afe728c8f1e84e96241da964100ce92</td><td>TENNESSEE WHISKIES</td><td>Jack Daniels Old #7 Black Lbl</td><td>293.76</td><td>9.6</td></tr>",
                            "<tr><td>S20144500054</td><td>2019-07-17</td><td>132c4b617719a9cd52ac30086abc82dd32478df9</td><td>CANADIAN WHISKIES</td><td>Black Velvet Cinnamon Rush Mini</td><td>7.44</td><td>0.6</td></tr>",
                            "<tr><td>S07150700002</td><td>2017-08-16</td><td>32968dab8459d1f741463a7597df73a174a9c46e</td><td>VODKA 80 PROOF</td><td>Smirnoff Vodka 80 Prf Mini</td><td>11.2</td><td>0.5</td></tr>",
                            "<tr><td>S26846200066</td><td>2020-07-20</td><td>c215d0667aa45b6d2329bb2cb7189026bf35f2da</td><td>TRIPLE SEC</td><td>Paramount Triple Sec</td><td>20.52</td><td>3</td></tr>",
                            "<tr><td>S05423900033</td><td>2017-05-08</td><td>02dcd8cbba3a2dd4228ed1dd873694cb5b77a765</td><td>VODKA 80 PROOF</td><td>Mccormick Vodka Pet</td><td>31.56</td><td>4.5</td></tr>",
                            "<tr><td>S11337200014</td><td>2018-03-28</td><td>696e38e59d7ebbb5cda553efb31aff23d3b3997d</td><td>BLENDED WHISKIES</td><td>Calvert Extra Bl Whiskey</td><td>30.93</td><td>3</td></tr>",
                            "<tr><td>S24716900004</td><td>2020-03-25</td><td>3ca165c0d119c92fdb6a35d1fad4e4a9eff11afb</td><td>IMPORTED VODKA</td><td>Grey Goose Vodka</td><td>198</td><td>6</td></tr>",
                            "</table>"
                        ]
                    }
                }
            ],
            "execution_count": 1
        },
        {
            "cell_type": "code",
            "source": [
                "SELECT TOP (15) *\r\n",
                "FROM Project_3_Query_and_Dashboard.dbo.store_loc"
            ],
            "metadata": {
                "azdata_cell_guid": "94e5e647-5af4-4351-a546-0e5184302be5",
                "extensions": {
                    "azuredatastudio": {
                        "views": []
                    }
                },
                "tags": []
            },
            "outputs": [
                {
                    "output_type": "display_data",
                    "data": {
                        "text/html": "(15 rows affected)"
                    },
                    "metadata": {}
                },
                {
                    "output_type": "display_data",
                    "data": {
                        "text/html": "Total execution time: 00:00:00.004"
                    },
                    "metadata": {}
                },
                {
                    "output_type": "execute_result",
                    "metadata": {},
                    "execution_count": 2,
                    "data": {
                        "application/vnd.dataresource+json": {
                            "schema": {
                                "fields": [
                                    {
                                        "name": "store_unique_identifier"
                                    },
                                    {
                                        "name": "store_name"
                                    },
                                    {
                                        "name": "address"
                                    },
                                    {
                                        "name": "city"
                                    },
                                    {
                                        "name": "county_number"
                                    },
                                    {
                                        "name": "county"
                                    },
                                    {
                                        "name": "latitude"
                                    },
                                    {
                                        "name": "longitude"
                                    }
                                ]
                            },
                            "data": [
                                {
                                    "0": "623aac594e8a8f61e63ceb7355a6faba566d5b48",
                                    "1": "Keokuk Spirits",
                                    "2": "1013 MAIN",
                                    "3": "KEOKUK",
                                    "4": "56",
                                    "5": "Lee",
                                    "6": "40.39978",
                                    "7": "-91.387531"
                                },
                                {
                                    "0": "8beddbb66d7cfc1d0a4d98b6d8ada3c0f20ec51f",
                                    "1": "Ding's Honk And Holler",
                                    "2": "900 E WASHINGTON",
                                    "3": "CLARINDA",
                                    "4": "73",
                                    "5": "Page",
                                    "6": "40.739238",
                                    "7": "-95.02756"
                                },
                                {
                                    "0": "27e6b988a4eb930c645dc32e4b6b55123234fac0",
                                    "1": "Quicker Liquor Store",
                                    "2": "1414 48TH ST",
                                    "3": "FORT MADISON",
                                    "4": "56",
                                    "5": "Lee",
                                    "6": "40.624226",
                                    "7": "-91.373211"
                                },
                                {
                                    "0": "c22d076f3867a01bc74028de7e3491d252a00591",
                                    "1": "Twin Town Liquor",
                                    "2": "104 HIGHWAY 30 WEST",
                                    "3": "TOLEDO",
                                    "4": "86",
                                    "5": "Tama",
                                    "6": "41.985887",
                                    "7": "-92.579244"
                                },
                                {
                                    "0": "b0fbbdb7509165103bba4818bd1504e751f9f915",
                                    "1": "Spirits, Stogies and Stuff",
                                    "2": "118 South Main St.",
                                    "3": "HOLSTEIN",
                                    "4": "47",
                                    "5": "Ida",
                                    "6": "42.490073",
                                    "7": "-95.544793"
                                },
                                {
                                    "0": "59570dafb7726669086bfbe346e361845cffc8b5",
                                    "1": "Hy-Vee Food Store #3 / Waterloo",
                                    "2": "1422 FLAMMANG DR",
                                    "3": "WATERLOO",
                                    "4": "7",
                                    "5": "Black Hawk",
                                    "6": "42.459938",
                                    "7": "-92.327917"
                                },
                                {
                                    "0": "2ce69abae31830a26bdabfc1f3d3b677c1d9cc5b",
                                    "1": "Crossroads Wine and Liquor",
                                    "2": "117 IOWA AVE",
                                    "3": "DUNLAP",
                                    "4": "43",
                                    "5": "Harrison",
                                    "6": "41.854728",
                                    "7": "-95.602969"
                                },
                                {
                                    "0": "cf3104b8b57e8264ca105fee6144cdd666e3fbe3",
                                    "1": "Hy-Vee Food Store / Sheldon",
                                    "2": "1989 PARK ST",
                                    "3": "SHELDON",
                                    "4": "71",
                                    "5": "O'Brien",
                                    "6": "43.186038",
                                    "7": "-95.831721"
                                },
                                {
                                    "0": "ffd1868142d7eae65a93d135d7141c4ca689443e",
                                    "1": "Hy-Vee Food Store / Fleur / DSM",
                                    "2": "4605 FLEUR DRIVE",
                                    "3": "DES MOINES",
                                    "4": "77",
                                    "5": "Polk",
                                    "6": "41.542816",
                                    "7": "-93.644943"
                                },
                                {
                                    "0": "e1088751b257d3b8fee5ae44d592e42b2051610e",
                                    "1": "After 5 Somewhere",
                                    "2": "704 W 7TH ST PO BOX 372",
                                    "3": "ATLANTIC",
                                    "4": "15",
                                    "5": "Cass",
                                    "6": "41.404062",
                                    "7": "-95.023116"
                                },
                                {
                                    "0": "cb3c340bc3c69549f4767e33262d1b83b6a99a05",
                                    "1": "Osco #881 / Clinton",
                                    "2": "1307 N SECOND",
                                    "3": "CLINTON",
                                    "4": "23",
                                    "5": "Clinton",
                                    "6": "41.858483",
                                    "7": "-90.184946"
                                },
                                {
                                    "0": "279d1aa3b319f621e5a1c07988aea35383adae58",
                                    "1": "Hy-Vee #2 / Dubuque",
                                    "2": "2395 NW ARTERIAL RD",
                                    "3": "DUBUQUE",
                                    "4": "31",
                                    "5": "Dubuque",
                                    "6": "42.516621",
                                    "7": "-90.741064"
                                },
                                {
                                    "0": "dd95c4de0461c4e9ec7e4be60b9131b49a8a9f16",
                                    "1": "Hy-Vee Food Store / Cedar Falls",
                                    "2": "6301 UNIVERSITY",
                                    "3": "CEDAR FALLS",
                                    "4": "7",
                                    "5": "Black Hawk",
                                    "6": "42.512771",
                                    "7": "-92.433344"
                                },
                                {
                                    "0": "35324c3007edffee486ecc0d26d3e38496a34d92",
                                    "1": "Hy-Vee Wine and Spirits / Denison",
                                    "2": "1620  4TH AVE, SOUTH",
                                    "3": "DENISON",
                                    "4": "24",
                                    "5": "Crawford",
                                    "6": "42.012395",
                                    "7": "-95.348616"
                                },
                                {
                                    "0": "2726f5121926d6db0ca60709acc24603c1fdf47c",
                                    "1": "J D Spirits Liquor",
                                    "2": "1023  9TH ST",
                                    "3": "ONAWA",
                                    "4": "67",
                                    "5": "Monona",
                                    "6": "42.025841",
                                    "7": "-96.095845"
                                }
                            ]
                        },
                        "text/html": [
                            "<table>",
                            "<tr><th>store_unique_identifier</th><th>store_name</th><th>address</th><th>city</th><th>county_number</th><th>county</th><th>latitude</th><th>longitude</th></tr>",
                            "<tr><td>623aac594e8a8f61e63ceb7355a6faba566d5b48</td><td>Keokuk Spirits</td><td>1013 MAIN</td><td>KEOKUK</td><td>56</td><td>Lee</td><td>40.39978</td><td>-91.387531</td></tr>",
                            "<tr><td>8beddbb66d7cfc1d0a4d98b6d8ada3c0f20ec51f</td><td>Ding's Honk And Holler</td><td>900 E WASHINGTON</td><td>CLARINDA</td><td>73</td><td>Page</td><td>40.739238</td><td>-95.02756</td></tr>",
                            "<tr><td>27e6b988a4eb930c645dc32e4b6b55123234fac0</td><td>Quicker Liquor Store</td><td>1414 48TH ST</td><td>FORT MADISON</td><td>56</td><td>Lee</td><td>40.624226</td><td>-91.373211</td></tr>",
                            "<tr><td>c22d076f3867a01bc74028de7e3491d252a00591</td><td>Twin Town Liquor</td><td>104 HIGHWAY 30 WEST</td><td>TOLEDO</td><td>86</td><td>Tama</td><td>41.985887</td><td>-92.579244</td></tr>",
                            "<tr><td>b0fbbdb7509165103bba4818bd1504e751f9f915</td><td>Spirits, Stogies and Stuff</td><td>118 South Main St.</td><td>HOLSTEIN</td><td>47</td><td>Ida</td><td>42.490073</td><td>-95.544793</td></tr>",
                            "<tr><td>59570dafb7726669086bfbe346e361845cffc8b5</td><td>Hy-Vee Food Store #3 / Waterloo</td><td>1422 FLAMMANG DR</td><td>WATERLOO</td><td>7</td><td>Black Hawk</td><td>42.459938</td><td>-92.327917</td></tr>",
                            "<tr><td>2ce69abae31830a26bdabfc1f3d3b677c1d9cc5b</td><td>Crossroads Wine and Liquor</td><td>117 IOWA AVE</td><td>DUNLAP</td><td>43</td><td>Harrison</td><td>41.854728</td><td>-95.602969</td></tr>",
                            "<tr><td>cf3104b8b57e8264ca105fee6144cdd666e3fbe3</td><td>Hy-Vee Food Store / Sheldon</td><td>1989 PARK ST</td><td>SHELDON</td><td>71</td><td>O'Brien</td><td>43.186038</td><td>-95.831721</td></tr>",
                            "<tr><td>ffd1868142d7eae65a93d135d7141c4ca689443e</td><td>Hy-Vee Food Store / Fleur / DSM</td><td>4605 FLEUR DRIVE</td><td>DES MOINES</td><td>77</td><td>Polk</td><td>41.542816</td><td>-93.644943</td></tr>",
                            "<tr><td>e1088751b257d3b8fee5ae44d592e42b2051610e</td><td>After 5 Somewhere</td><td>704 W 7TH ST PO BOX 372</td><td>ATLANTIC</td><td>15</td><td>Cass</td><td>41.404062</td><td>-95.023116</td></tr>",
                            "<tr><td>cb3c340bc3c69549f4767e33262d1b83b6a99a05</td><td>Osco #881 / Clinton</td><td>1307 N SECOND</td><td>CLINTON</td><td>23</td><td>Clinton</td><td>41.858483</td><td>-90.184946</td></tr>",
                            "<tr><td>279d1aa3b319f621e5a1c07988aea35383adae58</td><td>Hy-Vee #2 / Dubuque</td><td>2395 NW ARTERIAL RD</td><td>DUBUQUE</td><td>31</td><td>Dubuque</td><td>42.516621</td><td>-90.741064</td></tr>",
                            "<tr><td>dd95c4de0461c4e9ec7e4be60b9131b49a8a9f16</td><td>Hy-Vee Food Store / Cedar Falls</td><td>6301 UNIVERSITY</td><td>CEDAR FALLS</td><td>7</td><td>Black Hawk</td><td>42.512771</td><td>-92.433344</td></tr>",
                            "<tr><td>35324c3007edffee486ecc0d26d3e38496a34d92</td><td>Hy-Vee Wine and Spirits / Denison</td><td>1620  4TH AVE, SOUTH</td><td>DENISON</td><td>24</td><td>Crawford</td><td>42.012395</td><td>-95.348616</td></tr>",
                            "<tr><td>2726f5121926d6db0ca60709acc24603c1fdf47c</td><td>J D Spirits Liquor</td><td>1023  9TH ST</td><td>ONAWA</td><td>67</td><td>Monona</td><td>42.025841</td><td>-96.095845</td></tr>",
                            "</table>"
                        ]
                    }
                }
            ],
            "execution_count": 2
        },
        {
            "cell_type": "markdown",
            "source": [
                "## **Join the two tables `ia_alc_retail_invoice` and `store_loc`**\n",
                "\n",
                "If we are to build a dashboard of the transactions of liquor, then we want information from both tables. For example, we want the transaction amount and volume of liquor from `ia_alc_retail_invoice`, but we also want the store name and store coordinates from `store_loc`, so we can specify the corresponding stores on a map.\n",
                "\n",
                "To combine the two tables, we make use of SQL's `JOIN` keyword. Joining is done on the column `store_unique_identifier`, such that we correctly match the two tables based on each store. Recall we only want entries between the years 2017 and 2020 inclusive.\n",
                "\n",
                "For demonstration, we only return the top 20 rows. In practice, we would remove `TOP(20)` from the query, execute it, and export the output to a csv file for Tableau."
            ],
            "metadata": {
                "azdata_cell_guid": "1a1e0ee8-48e4-4c1c-b4f3-81f1b107bc30"
            },
            "attachments": {}
        },
        {
            "cell_type": "code",
            "source": [
                "SELECT TOP(20) inv.date, inv.category_name, inv.sales_in_usd, inv.liters_sold, loc.store_name, \r\n",
                "  loc.address, loc.city, loc.county, loc.latitude, loc.longitude,\r\n",
                "SUM(inv.sales_in_usd) OVER (PARTITION BY (loc.county)) AS county_sum_usd\r\n",
                "FROM Project_3_Query_and_Dashboard.dbo.store_loc AS loc\r\n",
                "JOIN Project_3_Query_and_Dashboard.dbo.ia_alc_retail_invoice AS inv\r\n",
                "    ON loc.store_unique_identifier = inv.store_unique_identifier\r\n",
                "WHERE NOT (inv.date >= '2021-01-01' OR inv.date < '2017-01-01')"
            ],
            "metadata": {
                "azdata_cell_guid": "c468c517-904f-4b82-b588-23945fd9c970",
                "tags": []
            },
            "outputs": [
                {
                    "output_type": "display_data",
                    "data": {
                        "text/html": "(20 rows affected)"
                    },
                    "metadata": {}
                },
                {
                    "output_type": "display_data",
                    "data": {
                        "text/html": "Total execution time: 00:01:00.372"
                    },
                    "metadata": {}
                },
                {
                    "output_type": "execute_result",
                    "metadata": {},
                    "execution_count": 3,
                    "data": {
                        "application/vnd.dataresource+json": {
                            "schema": {
                                "fields": [
                                    {
                                        "name": "date"
                                    },
                                    {
                                        "name": "category_name"
                                    },
                                    {
                                        "name": "sales_in_usd"
                                    },
                                    {
                                        "name": "liters_sold"
                                    },
                                    {
                                        "name": "store_name"
                                    },
                                    {
                                        "name": "address"
                                    },
                                    {
                                        "name": "city"
                                    },
                                    {
                                        "name": "county"
                                    },
                                    {
                                        "name": "latitude"
                                    },
                                    {
                                        "name": "longitude"
                                    },
                                    {
                                        "name": "county_sum_usd"
                                    }
                                ]
                            },
                            "data": [
                                {
                                    "0": "2019-06-09",
                                    "1": "TENNESSEE WHISKIES",
                                    "2": "65.4",
                                    "3": "2.25",
                                    "4": "Hometown Foods / Stuart",
                                    "5": "611 S DIVISION ST",
                                    "6": "STUART",
                                    "7": "Adair",
                                    "8": "41.503441",
                                    "9": "-94.318377",
                                    "10": "1536937.7299999832"
                                },
                                {
                                    "0": "2020-08-10",
                                    "1": "SPICED RUM",
                                    "2": "21.76",
                                    "3": "2",
                                    "4": "Hometown Foods / Stuart",
                                    "5": "611 S DIVISION ST",
                                    "6": "STUART",
                                    "7": "Adair",
                                    "8": "41.503441",
                                    "9": "-94.318377",
                                    "10": "1536937.7299999832"
                                },
                                {
                                    "0": "2020-06-15",
                                    "1": "PUERTO RICO & VIRGIN ISLANDS RUM",
                                    "2": "24.78",
                                    "3": "1.5",
                                    "4": "Hometown Foods / Stuart",
                                    "5": "611 S DIVISION ST",
                                    "6": "STUART",
                                    "7": "Adair",
                                    "8": "41.503441",
                                    "9": "-94.318377",
                                    "10": "1536937.7299999832"
                                },
                                {
                                    "0": "2020-11-30",
                                    "1": "TEQUILA",
                                    "2": "62.96",
                                    "3": "3",
                                    "4": "Hometown Foods / Stuart",
                                    "5": "611 S DIVISION ST",
                                    "6": "STUART",
                                    "7": "Adair",
                                    "8": "41.503441",
                                    "9": "-94.318377",
                                    "10": "1536937.7299999832"
                                },
                                {
                                    "0": "2018-11-18",
                                    "1": "BLENDED WHISKIES",
                                    "2": "70.8",
                                    "3": "10.5",
                                    "4": "Hometown Foods / Stuart",
                                    "5": "611 S DIVISION ST",
                                    "6": "STUART",
                                    "7": "Adair",
                                    "8": "41.503441",
                                    "9": "-94.318377",
                                    "10": "1536937.7299999832"
                                },
                                {
                                    "0": "2019-03-24",
                                    "1": "STRAIGHT BOURBON WHISKIES",
                                    "2": "47.22",
                                    "3": "2.25",
                                    "4": "Hometown Foods / Stuart",
                                    "5": "611 S DIVISION ST",
                                    "6": "STUART",
                                    "7": "Adair",
                                    "8": "41.503441",
                                    "9": "-94.318377",
                                    "10": "1536937.7299999832"
                                },
                                {
                                    "0": "2017-08-07",
                                    "1": "VODKA 80 PROOF",
                                    "2": "63.12",
                                    "3": "9",
                                    "4": "Hometown Foods / Stuart",
                                    "5": "611 S DIVISION ST",
                                    "6": "STUART",
                                    "7": "Adair",
                                    "8": "41.503441",
                                    "9": "-94.318377",
                                    "10": "1536937.7299999832"
                                },
                                {
                                    "0": "2017-06-05",
                                    "1": "MISC. IMPORTED CORDIALS & LIQUEURS",
                                    "2": "69.92",
                                    "3": "1.5",
                                    "4": "Hometown Foods / Stuart",
                                    "5": "611 S DIVISION ST",
                                    "6": "STUART",
                                    "7": "Adair",
                                    "8": "41.503441",
                                    "9": "-94.318377",
                                    "10": "1536937.7299999832"
                                },
                                {
                                    "0": "2020-06-22",
                                    "1": "100 PROOF VODKA",
                                    "2": "59.64",
                                    "3": "9",
                                    "4": "Hometown Foods / Stuart",
                                    "5": "611 S DIVISION ST",
                                    "6": "STUART",
                                    "7": "Adair",
                                    "8": "41.503441",
                                    "9": "-94.318377",
                                    "10": "1536937.7299999832"
                                },
                                {
                                    "0": "2018-04-09",
                                    "1": "CANADIAN WHISKIES",
                                    "2": "75",
                                    "3": "10.5",
                                    "4": "Hometown Foods / Stuart",
                                    "5": "611 S DIVISION ST",
                                    "6": "STUART",
                                    "7": "Adair",
                                    "8": "41.503441",
                                    "9": "-94.318377",
                                    "10": "1536937.7299999832"
                                },
                                {
                                    "0": "2020-02-02",
                                    "1": "SPICED RUM",
                                    "2": "26.01",
                                    "3": "2.25",
                                    "4": "Hometown Foods / Stuart",
                                    "5": "611 S DIVISION ST",
                                    "6": "STUART",
                                    "7": "Adair",
                                    "8": "41.503441",
                                    "9": "-94.318377",
                                    "10": "1536937.7299999832"
                                },
                                {
                                    "0": "2018-10-14",
                                    "1": "AMERICAN DRY GINS",
                                    "2": "65.7",
                                    "3": "10.5",
                                    "4": "Hometown Foods / Stuart",
                                    "5": "611 S DIVISION ST",
                                    "6": "STUART",
                                    "7": "Adair",
                                    "8": "41.503441",
                                    "9": "-94.318377",
                                    "10": "1536937.7299999832"
                                },
                                {
                                    "0": "2019-09-08",
                                    "1": "VODKA 80 PROOF",
                                    "2": "62.28",
                                    "3": "10.5",
                                    "4": "Hometown Foods / Stuart",
                                    "5": "611 S DIVISION ST",
                                    "6": "STUART",
                                    "7": "Adair",
                                    "8": "41.503441",
                                    "9": "-94.318377",
                                    "10": "1536937.7299999832"
                                },
                                {
                                    "0": "2017-07-10",
                                    "1": "CANADIAN WHISKIES",
                                    "2": "89.52",
                                    "3": "10.5",
                                    "4": "Hometown Foods / Stuart",
                                    "5": "611 S DIVISION ST",
                                    "6": "STUART",
                                    "7": "Adair",
                                    "8": "41.503441",
                                    "9": "-94.318377",
                                    "10": "1536937.7299999832"
                                },
                                {
                                    "0": "2019-11-12",
                                    "1": "SPICED RUM",
                                    "2": "130.56",
                                    "3": "12",
                                    "4": "Hometown Foods / Stuart",
                                    "5": "611 S DIVISION ST",
                                    "6": "STUART",
                                    "7": "Adair",
                                    "8": "41.503441",
                                    "9": "-94.318377",
                                    "10": "1536937.7299999832"
                                },
                                {
                                    "0": "2018-05-14",
                                    "1": "BLENDED WHISKIES",
                                    "2": "99.12",
                                    "3": "9",
                                    "4": "Hometown Foods / Stuart",
                                    "5": "611 S DIVISION ST",
                                    "6": "STUART",
                                    "7": "Adair",
                                    "8": "41.503441",
                                    "9": "-94.318377",
                                    "10": "1536937.7299999832"
                                },
                                {
                                    "0": "2017-01-03",
                                    "1": "STRAIGHT RYE WHISKIES",
                                    "2": "162.78",
                                    "3": "4.5",
                                    "4": "Hometown Foods / Stuart",
                                    "5": "611 S DIVISION ST",
                                    "6": "STUART",
                                    "7": "Adair",
                                    "8": "41.503441",
                                    "9": "-94.318377",
                                    "10": "1536937.7299999832"
                                },
                                {
                                    "0": "2017-10-30",
                                    "1": "VODKA 80 PROOF",
                                    "2": "61.2",
                                    "3": "10.5",
                                    "4": "Hometown Foods / Stuart",
                                    "5": "611 S DIVISION ST",
                                    "6": "STUART",
                                    "7": "Adair",
                                    "8": "41.503441",
                                    "9": "-94.318377",
                                    "10": "1536937.7299999832"
                                },
                                {
                                    "0": "2019-11-12",
                                    "1": "AMERICAN COCKTAILS",
                                    "2": "19.62",
                                    "3": "3",
                                    "4": "Hometown Foods / Stuart",
                                    "5": "611 S DIVISION ST",
                                    "6": "STUART",
                                    "7": "Adair",
                                    "8": "41.503441",
                                    "9": "-94.318377",
                                    "10": "1536937.7299999832"
                                },
                                {
                                    "0": "2018-04-02",
                                    "1": "STRAIGHT BOURBON WHISKIES",
                                    "2": "87.06",
                                    "3": "10.5",
                                    "4": "Hometown Foods / Stuart",
                                    "5": "611 S DIVISION ST",
                                    "6": "STUART",
                                    "7": "Adair",
                                    "8": "41.503441",
                                    "9": "-94.318377",
                                    "10": "1536937.7299999832"
                                }
                            ]
                        },
                        "text/html": [
                            "<table>",
                            "<tr><th>date</th><th>category_name</th><th>sales_in_usd</th><th>liters_sold</th><th>store_name</th><th>address</th><th>city</th><th>county</th><th>latitude</th><th>longitude</th><th>county_sum_usd</th></tr>",
                            "<tr><td>2019-06-09</td><td>TENNESSEE WHISKIES</td><td>65.4</td><td>2.25</td><td>Hometown Foods / Stuart</td><td>611 S DIVISION ST</td><td>STUART</td><td>Adair</td><td>41.503441</td><td>-94.318377</td><td>1536937.7299999832</td></tr>",
                            "<tr><td>2020-08-10</td><td>SPICED RUM</td><td>21.76</td><td>2</td><td>Hometown Foods / Stuart</td><td>611 S DIVISION ST</td><td>STUART</td><td>Adair</td><td>41.503441</td><td>-94.318377</td><td>1536937.7299999832</td></tr>",
                            "<tr><td>2020-06-15</td><td>PUERTO RICO &amp; VIRGIN ISLANDS RUM</td><td>24.78</td><td>1.5</td><td>Hometown Foods / Stuart</td><td>611 S DIVISION ST</td><td>STUART</td><td>Adair</td><td>41.503441</td><td>-94.318377</td><td>1536937.7299999832</td></tr>",
                            "<tr><td>2020-11-30</td><td>TEQUILA</td><td>62.96</td><td>3</td><td>Hometown Foods / Stuart</td><td>611 S DIVISION ST</td><td>STUART</td><td>Adair</td><td>41.503441</td><td>-94.318377</td><td>1536937.7299999832</td></tr>",
                            "<tr><td>2018-11-18</td><td>BLENDED WHISKIES</td><td>70.8</td><td>10.5</td><td>Hometown Foods / Stuart</td><td>611 S DIVISION ST</td><td>STUART</td><td>Adair</td><td>41.503441</td><td>-94.318377</td><td>1536937.7299999832</td></tr>",
                            "<tr><td>2019-03-24</td><td>STRAIGHT BOURBON WHISKIES</td><td>47.22</td><td>2.25</td><td>Hometown Foods / Stuart</td><td>611 S DIVISION ST</td><td>STUART</td><td>Adair</td><td>41.503441</td><td>-94.318377</td><td>1536937.7299999832</td></tr>",
                            "<tr><td>2017-08-07</td><td>VODKA 80 PROOF</td><td>63.12</td><td>9</td><td>Hometown Foods / Stuart</td><td>611 S DIVISION ST</td><td>STUART</td><td>Adair</td><td>41.503441</td><td>-94.318377</td><td>1536937.7299999832</td></tr>",
                            "<tr><td>2017-06-05</td><td>MISC. IMPORTED CORDIALS &amp; LIQUEURS</td><td>69.92</td><td>1.5</td><td>Hometown Foods / Stuart</td><td>611 S DIVISION ST</td><td>STUART</td><td>Adair</td><td>41.503441</td><td>-94.318377</td><td>1536937.7299999832</td></tr>",
                            "<tr><td>2020-06-22</td><td>100 PROOF VODKA</td><td>59.64</td><td>9</td><td>Hometown Foods / Stuart</td><td>611 S DIVISION ST</td><td>STUART</td><td>Adair</td><td>41.503441</td><td>-94.318377</td><td>1536937.7299999832</td></tr>",
                            "<tr><td>2018-04-09</td><td>CANADIAN WHISKIES</td><td>75</td><td>10.5</td><td>Hometown Foods / Stuart</td><td>611 S DIVISION ST</td><td>STUART</td><td>Adair</td><td>41.503441</td><td>-94.318377</td><td>1536937.7299999832</td></tr>",
                            "<tr><td>2020-02-02</td><td>SPICED RUM</td><td>26.01</td><td>2.25</td><td>Hometown Foods / Stuart</td><td>611 S DIVISION ST</td><td>STUART</td><td>Adair</td><td>41.503441</td><td>-94.318377</td><td>1536937.7299999832</td></tr>",
                            "<tr><td>2018-10-14</td><td>AMERICAN DRY GINS</td><td>65.7</td><td>10.5</td><td>Hometown Foods / Stuart</td><td>611 S DIVISION ST</td><td>STUART</td><td>Adair</td><td>41.503441</td><td>-94.318377</td><td>1536937.7299999832</td></tr>",
                            "<tr><td>2019-09-08</td><td>VODKA 80 PROOF</td><td>62.28</td><td>10.5</td><td>Hometown Foods / Stuart</td><td>611 S DIVISION ST</td><td>STUART</td><td>Adair</td><td>41.503441</td><td>-94.318377</td><td>1536937.7299999832</td></tr>",
                            "<tr><td>2017-07-10</td><td>CANADIAN WHISKIES</td><td>89.52</td><td>10.5</td><td>Hometown Foods / Stuart</td><td>611 S DIVISION ST</td><td>STUART</td><td>Adair</td><td>41.503441</td><td>-94.318377</td><td>1536937.7299999832</td></tr>",
                            "<tr><td>2019-11-12</td><td>SPICED RUM</td><td>130.56</td><td>12</td><td>Hometown Foods / Stuart</td><td>611 S DIVISION ST</td><td>STUART</td><td>Adair</td><td>41.503441</td><td>-94.318377</td><td>1536937.7299999832</td></tr>",
                            "<tr><td>2018-05-14</td><td>BLENDED WHISKIES</td><td>99.12</td><td>9</td><td>Hometown Foods / Stuart</td><td>611 S DIVISION ST</td><td>STUART</td><td>Adair</td><td>41.503441</td><td>-94.318377</td><td>1536937.7299999832</td></tr>",
                            "<tr><td>2017-01-03</td><td>STRAIGHT RYE WHISKIES</td><td>162.78</td><td>4.5</td><td>Hometown Foods / Stuart</td><td>611 S DIVISION ST</td><td>STUART</td><td>Adair</td><td>41.503441</td><td>-94.318377</td><td>1536937.7299999832</td></tr>",
                            "<tr><td>2017-10-30</td><td>VODKA 80 PROOF</td><td>61.2</td><td>10.5</td><td>Hometown Foods / Stuart</td><td>611 S DIVISION ST</td><td>STUART</td><td>Adair</td><td>41.503441</td><td>-94.318377</td><td>1536937.7299999832</td></tr>",
                            "<tr><td>2019-11-12</td><td>AMERICAN COCKTAILS</td><td>19.62</td><td>3</td><td>Hometown Foods / Stuart</td><td>611 S DIVISION ST</td><td>STUART</td><td>Adair</td><td>41.503441</td><td>-94.318377</td><td>1536937.7299999832</td></tr>",
                            "<tr><td>2018-04-02</td><td>STRAIGHT BOURBON WHISKIES</td><td>87.06</td><td>10.5</td><td>Hometown Foods / Stuart</td><td>611 S DIVISION ST</td><td>STUART</td><td>Adair</td><td>41.503441</td><td>-94.318377</td><td>1536937.7299999832</td></tr>",
                            "</table>"
                        ]
                    }
                }
            ],
            "execution_count": 3
        },
        {
            "cell_type": "markdown",
            "source": [
                "We export the output of the query above (without `TOP(20)`) as a csv file, which we use in Tableau."
            ],
            "metadata": {
                "azdata_cell_guid": "cd6d9d2b-83be-40f2-8b44-793af805ff9c"
            },
            "attachments": {}
        }
    ]
}